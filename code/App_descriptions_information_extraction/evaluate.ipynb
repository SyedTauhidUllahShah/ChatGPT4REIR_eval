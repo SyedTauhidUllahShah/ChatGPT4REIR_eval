{
 "cells": [
  {
   "cell_type": "markdown",
   "id": "075e693a-6ee1-41c8-87aa-80bc1767cda7",
   "metadata": {},
   "source": [
    "## <center>**App Feature Extraction from Descriptions**</center>"
   ]
  },
  {
   "cell_type": "code",
   "execution_count": 2,
   "id": "a66fe002-88c7-468d-9f57-05a1c5eec7c3",
   "metadata": {},
   "outputs": [],
   "source": [
    "from utils.fileUtils import *"
   ]
  },
  {
   "cell_type": "code",
   "execution_count": 6,
   "id": "02794e71-c87c-4cba-8dcd-fd1ae7f51023",
   "metadata": {},
   "outputs": [],
   "source": [
    "# load the golden from data_list"
   ]
  },
  {
   "cell_type": "code",
   "execution_count": 7,
   "id": "95fc6967-b343-4901-ba80-faa2c706da80",
   "metadata": {},
   "outputs": [],
   "source": [
    "data_list = loadJson('./data_list.json')"
   ]
  },
  {
   "cell_type": "code",
   "execution_count": 8,
   "id": "407c9838-64e3-490d-bf04-b3676dbe0a97",
   "metadata": {},
   "outputs": [],
   "source": [
    "# load data list"
   ]
  },
  {
   "cell_type": "code",
   "execution_count": 11,
   "id": "49dc3c57-3870-4729-863f-e5efe5df57cc",
   "metadata": {},
   "outputs": [],
   "source": [
    "result_dir = './results/'"
   ]
  },
  {
   "cell_type": "code",
   "execution_count": 10,
   "id": "5154b04e-c34b-47b0-a40e-ebbe3138dd86",
   "metadata": {},
   "outputs": [
    {
     "ename": "SyntaxError",
     "evalue": "'break' outside loop (668683560.py, line 1)",
     "output_type": "error",
     "traceback": [
      "\u001b[0;36m  File \u001b[0;32m\"/tmp/ipykernel_6864/668683560.py\"\u001b[0;36m, line \u001b[0;32m1\u001b[0m\n\u001b[0;31m    break\u001b[0m\n\u001b[0m    ^\u001b[0m\n\u001b[0;31mSyntaxError\u001b[0m\u001b[0;31m:\u001b[0m 'break' outside loop\n"
     ]
    }
   ],
   "source": [
    "break"
   ]
  },
  {
   "cell_type": "code",
   "execution_count": 179,
   "id": "9ea16abd-8972-4485-a881-48ff15406a17",
   "metadata": {},
   "outputs": [
    {
     "data": {
      "text/plain": [
       "[3, 8, 13, 18, 23, 28, 33, 38, 43, 48]"
      ]
     },
     "execution_count": 179,
     "metadata": {},
     "output_type": "execute_result"
    }
   ],
   "source": [
    "# format problem：28,33,43\n",
    "list(range(3,50,5))"
   ]
  },
  {
   "cell_type": "code",
   "execution_count": 225,
   "id": "4de3edfc-e8d8-4262-90a4-eb8c7182fe9b",
   "metadata": {},
   "outputs": [],
   "source": [
    "app_id = 28"
   ]
  },
  {
   "cell_type": "code",
   "execution_count": 226,
   "id": "0a0a4759-f8fb-41d8-8941-566c1b4917b0",
   "metadata": {},
   "outputs": [],
   "source": [
    "extracted = loadJson(result_dir + '{}.json'.format(app_id))"
   ]
  },
  {
   "cell_type": "code",
   "execution_count": 227,
   "id": "6cb8a11b-ea3f-4381-81f9-63868a405545",
   "metadata": {},
   "outputs": [
    {
     "data": {
      "text/plain": [
       "['官方推荐精品应用',\n",
       " '智能算法推荐感兴趣的信息',\n",
       " '明星大V互动',\n",
       " '原创作者',\n",
       " '微头条',\n",
       " '问答区参与热点讨论',\n",
       " '短视频',\n",
       " '喊麦达人原创小视频',\n",
       " '分类连载小说漫画',\n",
       " '足球美妆全部覆盖',\n",
       " '个性化资讯推荐引擎',\n",
       " '机器学习',\n",
       " '个性化内容支持收藏',\n",
       " '头条号网罗所有精彩资讯',\n",
       " '好评',\n",
       " '用户反馈',\n",
       " '自动续期订阅']"
      ]
     },
     "execution_count": 227,
     "metadata": {},
     "output_type": "execute_result"
    }
   ],
   "source": [
    "extracted"
   ]
  },
  {
   "cell_type": "code",
   "execution_count": 228,
   "id": "a08f7c16-e97f-4434-89b9-b79c48407d09",
   "metadata": {},
   "outputs": [],
   "source": [
    "app_dict = data_list[app_id-1]"
   ]
  },
  {
   "cell_type": "code",
   "execution_count": 229,
   "id": "5c9b4d02-5148-4b00-944f-28a254a03598",
   "metadata": {},
   "outputs": [
    {
     "name": "stdout",
     "output_type": "stream",
     "text": [
      "今日头条\n"
     ]
    }
   ],
   "source": [
    "assert app_dict['ID'] == app_id\n",
    "print(app_dict['Name'])"
   ]
  },
  {
   "cell_type": "code",
   "execution_count": 230,
   "id": "48f10952-3c9d-4d6d-a2e8-f0fc81838e75",
   "metadata": {},
   "outputs": [],
   "source": [
    "golden = app_dict['Golden']"
   ]
  },
  {
   "cell_type": "code",
   "execution_count": 231,
   "id": "77a07d0a-8842-4e37-abbe-730e9ed5b0b2",
   "metadata": {},
   "outputs": [
    {
     "data": {
      "text/plain": [
       "['资讯',\n",
       " '推荐信息',\n",
       " '发布自己的微头条',\n",
       " '明星大V',\n",
       " '参与热点讨论',\n",
       " '无广告',\n",
       " '记录生活',\n",
       " '短视频',\n",
       " '原创小视频',\n",
       " '小说',\n",
       " '漫画',\n",
       " '一键收藏',\n",
       " '丰富频道',\n",
       " '漫迷社区',\n",
       " '体育新闻',\n",
       " '赛事点评',\n",
       " '火爆问答区',\n",
       " '热点话题',\n",
       " '收藏',\n",
       " '关注一手动态',\n",
       " '娱乐游戏生活',\n",
       " '搜索',\n",
       " '直播',\n",
       " '美妆教学',\n",
       " '反馈']"
      ]
     },
     "execution_count": 231,
     "metadata": {},
     "output_type": "execute_result"
    }
   ],
   "source": [
    "golden"
   ]
  },
  {
   "cell_type": "code",
   "execution_count": 232,
   "id": "2e637945-cc8f-4986-8e8a-c836931bd6e4",
   "metadata": {},
   "outputs": [
    {
     "name": "stdout",
     "output_type": "stream",
     "text": [
      "官方推荐精品应用 ['推荐信息', '资讯', '发布自己的微头条']\n"
     ]
    }
   ],
   "source": [
    "def string_intersection_count(str1, str2):\n",
    "    set1 = set(str1)\n",
    "    set2 = set(str2)\n",
    "    intersection = set1.intersection(set2)\n",
    "    return len(intersection)\n",
    "\n",
    "def sort_by_intersection(base_string, string_list):\n",
    "    return sorted(string_list, key=lambda x: string_intersection_count(base_string, x), reverse=True)[:3]\n",
    "\n",
    "base_string = extracted[0]\n",
    "string_list = golden\n",
    "\n",
    "sorted_list = sort_by_intersection(base_string, string_list)\n",
    "print(base_string,sorted_list)  # output：['exotic', 'apple', 'pineapple', 'mango', 'banana']"
   ]
  },
  {
   "cell_type": "code",
   "execution_count": 233,
   "id": "1d7bf346-a961-42c8-ba5a-815952db8398",
   "metadata": {},
   "outputs": [],
   "source": [
    "results = []\n",
    "for item in extracted:\n",
    "    num = string_intersection_count(item, sort_by_intersection(item,golden)[0])\n",
    "    line = ['',num,item] + sort_by_intersection(item,golden)\n",
    "    results.append(line)"
   ]
  },
  {
   "cell_type": "code",
   "execution_count": 234,
   "id": "2f4cef4b-ef82-4e45-ac5d-7f818509988e",
   "metadata": {},
   "outputs": [],
   "source": [
    "# writeToCsv('./evaluate/{}.csv'.format(app_id+1),results)"
   ]
  },
  {
   "cell_type": "code",
   "execution_count": 235,
   "id": "111013e9-192b-40b6-9a89-2500e3bb406a",
   "metadata": {},
   "outputs": [],
   "source": [
    "results_sorted = sorted(results,key=lambda item:item[1],reverse=True)"
   ]
  },
  {
   "cell_type": "code",
   "execution_count": 236,
   "id": "43de446c-516b-4372-a182-e53c82cacbab",
   "metadata": {},
   "outputs": [],
   "source": [
    "writeToCsv('./evaluate/{}.csv'.format(app_id),results_sorted)"
   ]
  },
  {
   "cell_type": "code",
   "execution_count": 238,
   "id": "8f924f4d-e2cc-4bcf-a4a0-56fd5e541b4a",
   "metadata": {},
   "outputs": [],
   "source": [
    "def string_intersection_count(str1, str2):\n",
    "    set1 = set(str1)\n",
    "    set2 = set(str2)\n",
    "    intersection = set1.intersection(set2)\n",
    "    return len(intersection)\n",
    "\n",
    "def sort_by_intersection(base_string, string_list):\n",
    "    return sorted(string_list, key=lambda x: string_intersection_count(base_string, x), reverse=True)[:3]"
   ]
  },
  {
   "cell_type": "code",
   "execution_count": 240,
   "id": "40c32cb1-f8d7-4d38-bd1a-d33e003ac93a",
   "metadata": {},
   "outputs": [
    {
     "name": "stdout",
     "output_type": "stream",
     "text": [
      "夸克-更好的搜索\n",
      "百度\n",
      "QQ浏览器-查看文件更便捷\n",
      "时间规划局-倒计时与提醒事项\n",
      "WiFi万能钥匙专业版\n",
      "哈啰出行-顺风车及共享单车助力车平台\n",
      "滴滴出行-DiDi\n",
      "飞常准Pro-全球航班查询机票酒店预订\n",
      "艺龙旅行Pro-订酒店机票火车票\n",
      "腾讯会议-多人实时视频会议软件\n",
      "钉钉\n",
      "企业微信\n",
      "小猪快传\n",
      "扫描王-ocr文字识别全能扫描王极速扫描\n",
      "哔哩哔哩-弹幕番剧直播高清视频\n",
      "隐形守护者\n",
      "皮皮虾专业版\n",
      "支付宝-让生活更简单\n",
      "58同城-招聘找工作兼职网\n",
      "美团-吃喝玩乐 尽在美团\n",
      "给未来写封信\n",
      "Stylebook\n",
      "UC浏览器-新闻头条短视频抢先看\n",
      "腾讯新闻-打开眼界\n",
      "今日头条\n",
      "今日头条(专业版)\n",
      "金十数据(专业版)-外汇黄金股票期货财经资讯数据\n",
      "网易云音乐-音乐的力量\n",
      "酷狗音乐-就是歌多\n",
      "QQ音乐-让生活充满音乐\n",
      "Guitar Pro\n",
      "音乐词典-音乐术语词典表情术语词典\n",
      "驾考宝典-驾考学车驾校考驾照宝典\n",
      "腾讯课堂\n",
      "作业帮-中小学搜题答疑辅导平台\n",
      "List背单词\n",
      "新概念英语全四册\n",
      "微信\n",
      "QQ\n",
      "小红书-标记我的生活\n",
      "一言-记录字句，发现共鸣\n",
      "邻家漂流瓶-遇见美好\n",
      "高德地图-精准地图\n",
      "百度地图-路线规划\n",
      "全国违章查询-12123交管车辆违章查询\n",
      "电子狗地图-GPS测车速违章拍照播报\n",
      "在谷歌地图中使用专业版地图\n"
     ]
    }
   ],
   "source": [
    "for app_id in range(1,51):\n",
    "    if app_id in [8,16,18]:\n",
    "        continue\n",
    "    extracted = loadJson(result_dir + '{}.json'.format(app_id))\n",
    "    app_dict = data_list[app_id-1]\n",
    "    assert app_dict['ID'] == app_id\n",
    "    print(app_dict['Name'])\n",
    "    golden = app_dict['Golden']\n",
    "    results = []\n",
    "    for item in extracted:\n",
    "        num = string_intersection_count(item, sort_by_intersection(item,golden)[0])\n",
    "        line = ['',num,item] + sort_by_intersection(item,golden)\n",
    "        results.append(line)\n",
    "    results_sorted = sorted(results,key=lambda item:item[1],reverse=True)\n",
    "    writeToCsv('./evaluate/{}.csv'.format(app_id),results_sorted)"
   ]
  },
  {
   "cell_type": "code",
   "execution_count": 252,
   "id": "0c60309c-f2b8-45bd-abc9-dc3f045c6861",
   "metadata": {},
   "outputs": [
    {
     "name": "stdout",
     "output_type": "stream",
     "text": [
      "检测到的文本语言是：zh-cn\n"
     ]
    }
   ],
   "source": [
    "from langdetect import detect\n",
    "\n",
    "text = \"请输入您想要检测的文本\"\n",
    "\n",
    "# using detect() detect the language of text\n",
    "detected_language = detect(text)\n",
    "\n",
    "print(f\"检测到的文本语言是：{detected_language}\")"
   ]
  },
  {
   "cell_type": "code",
   "execution_count": 254,
   "id": "7941e579-79a7-40a5-bb82-ee85e8860ca8",
   "metadata": {},
   "outputs": [
    {
     "name": "stdout",
     "output_type": "stream",
     "text": [
      "4\n",
      "10\n",
      "15\n",
      "19\n",
      "20\n",
      "23\n",
      "41\n"
     ]
    }
   ],
   "source": [
    "# for app_id in range(1,51):\n",
    "#     if app_id in [8,16,18]:\n",
    "#         continue\n",
    "#     extracted = loadJson(result_dir + '{}.json'.format(app_id))\n",
    "#     text = ','.join(extracted)\n",
    "#     detected_language = detect(text)\n",
    "#     if detected_language != 'zh-cn':\n",
    "#         print(app_id)"
   ]
  },
  {
   "attachments": {},
   "cell_type": "markdown",
   "id": "42eabdfc-4bab-4aab-bbcb-7f54edbb1d8f",
   "metadata": {},
   "source": [
    "### Verify human evaluation results"
   ]
  },
  {
   "cell_type": "code",
   "execution_count": 310,
   "id": "c555ba9b-32a0-4115-bac6-fd192790a7ca",
   "metadata": {},
   "outputs": [],
   "source": [
    "from utils.fileUtils import *"
   ]
  },
  {
   "cell_type": "code",
   "execution_count": 315,
   "id": "759f2377-152c-40e6-9f8f-13ba90c83993",
   "metadata": {},
   "outputs": [],
   "source": [
    "data_list = loadJson('./data_list.json')"
   ]
  },
  {
   "cell_type": "code",
   "execution_count": 409,
   "id": "ddc8cd95-f66c-487f-8f52-71ac6652bea8",
   "metadata": {},
   "outputs": [],
   "source": [
    "# Check that the human evaluation of the first column contains errors\n",
    "def check_first_column(lines):\n",
    "    for line in lines:\n",
    "        if not line[0].strip():\n",
    "            return False\n",
    "        if set(line[0]) - set('0123456789n'):\n",
    "            return False\n",
    "        else:\n",
    "            continue\n",
    "    return True"
   ]
  },
  {
   "cell_type": "code",
   "execution_count": 410,
   "id": "b44cfdd0-02bb-4230-88bc-e26e9933591c",
   "metadata": {},
   "outputs": [],
   "source": [
    "# Check the duplicate content in the extraction results, because it is relatively small, function detection, manual deletion\n",
    "def check_duplicates(lines):\n",
    "    pre_set = set()\n",
    "    for line in lines:\n",
    "        if line[2].strip().lower() in pre_set:\n",
    "            return False\n",
    "        else:\n",
    "            pre_set.add(line[2].strip().lower())\n",
    "    return True"
   ]
  },
  {
   "cell_type": "code",
   "execution_count": 681,
   "id": "42dff8d6-dc09-4faa-ab7a-7929f93cd517",
   "metadata": {},
   "outputs": [],
   "source": [
    "import os\n",
    "csv_files = os.listdir('./evaluate/')"
   ]
  },
  {
   "cell_type": "code",
   "execution_count": 682,
   "id": "23ae3217-1f45-4efe-9e40-4fa6e0100f49",
   "metadata": {},
   "outputs": [
    {
     "data": {
      "text/plain": [
       "50"
      ]
     },
     "execution_count": 682,
     "metadata": {},
     "output_type": "execute_result"
    }
   ],
   "source": [
    "len(csv_files)"
   ]
  },
  {
   "cell_type": "code",
   "execution_count": 683,
   "id": "23fe46ec-9527-4a81-a0eb-46d06b5365f9",
   "metadata": {},
   "outputs": [],
   "source": [
    "# Check first column and duplicate rows\n",
    "# Duplicates 13.csv\n",
    "# Duplicates 39.csv\n",
    "# Duplicates 34.csv\n",
    "# Duplicates 15.csv\n",
    "# Duplicates 46.csv\n",
    "# Duplicates 40.csv\n",
    "# Duplicates 43.csv\n",
    "# Duplicates 47.csv\n",
    "# Invalid First Column 10.csv\n",
    "# Duplicates 10.csv\n",
    "app_id_list = []\n",
    "for file in csv_files:\n",
    "    app_id_list.append(int(file[:-4]))\n",
    "    lines = readCsvToList('./evaluate/'+file)\n",
    "    if not check_first_column(lines):\n",
    "        print('Invalid First Column',file)\n",
    "    if not check_duplicates(lines):\n",
    "        print('Duplicates',file)"
   ]
  },
  {
   "cell_type": "code",
   "execution_count": 684,
   "id": "62ea8de4-d1d7-4e39-8693-298b367775da",
   "metadata": {},
   "outputs": [],
   "source": [
    "# Count result files\n",
    "assert len(app_id_list) == len(csv_files)"
   ]
  },
  {
   "cell_type": "code",
   "execution_count": 685,
   "id": "0ec6bf73-1bdb-4ed1-bae5-dd47e8e3b5fc",
   "metadata": {},
   "outputs": [
    {
     "data": {
      "text/plain": [
       "set()"
      ]
     },
     "execution_count": 685,
     "metadata": {},
     "output_type": "execute_result"
    }
   ],
   "source": [
    "set(range(1,51)) - set(app_id_list)"
   ]
  },
  {
   "cell_type": "code",
   "execution_count": 422,
   "id": "25f17dcc-375f-461c-bd7e-f3c5e184705d",
   "metadata": {},
   "outputs": [],
   "source": [
    "# Exception results are handled as follows\n",
    "# 8/16/18Both length exceeds the limit，Manually extract after truncating in the playground\n",
    "# 10.csv The output of the csv is all in English, manually add a round of dialogue in the playground, and ask to return the Chinese result"
   ]
  },
  {
   "attachments": {},
   "cell_type": "markdown",
   "id": "23113c80-aa4c-44ad-a5b2-f33da585221e",
   "metadata": {},
   "source": [
    "### Comparing human evaluation results with golden features\n"
   ]
  },
  {
   "cell_type": "code",
   "execution_count": 686,
   "id": "729e79d0-68c3-48e5-b4d2-f3a69e6a30f0",
   "metadata": {},
   "outputs": [],
   "source": [
    "app_id = 6"
   ]
  },
  {
   "cell_type": "code",
   "execution_count": 687,
   "id": "ab0b170a-fade-4730-908d-260a36e7f954",
   "metadata": {},
   "outputs": [],
   "source": [
    "lines = readCsvToList('./evaluate/{}.csv'.format(app_id))"
   ]
  },
  {
   "cell_type": "code",
   "execution_count": 688,
   "id": "c1da7f09-22ca-4c05-bede-cb7b519e95d2",
   "metadata": {},
   "outputs": [],
   "source": [
    "data_list = loadJson('./data_list.json')\n",
    "# app_id - 1 is the index of gold in data_list\n",
    "golden = data_list[app_id-1]['Golden']"
   ]
  },
  {
   "cell_type": "code",
   "execution_count": 689,
   "id": "11e8ece2-a48d-4c74-8164-810a35245a11",
   "metadata": {},
   "outputs": [],
   "source": [
    "def parse_prediction(lines,golden):\n",
    "    tp_set = set()\n",
    "    correct = 0\n",
    "    pre_list = [line[0].strip().lower() for line in lines]\n",
    "    total = len(pre_list) - pre_list.count('n')\n",
    "    for idx,item in enumerate(pre_list):\n",
    "        if item.strip() in ['n','0']:\n",
    "            continue\n",
    "        line = lines[idx]\n",
    "        correct += 1\n",
    "        # Number 1 corresponds to item 3 of each row\n",
    "        for jdx in item:\n",
    "            gold_feature = line[int(jdx) + 2]\n",
    "            assert gold_feature in golden\n",
    "            tp_set.add(gold_feature)\n",
    "    return total,correct,tp_set"
   ]
  },
  {
   "cell_type": "code",
   "execution_count": 690,
   "id": "a2d7f2e0-e941-4f82-89c7-90ab3d5fa939",
   "metadata": {},
   "outputs": [],
   "source": [
    "total,correct,tp_set = parse_prediction(lines,golden)"
   ]
  },
  {
   "cell_type": "code",
   "execution_count": 691,
   "id": "86e7e679-9c38-4ae5-a9b8-eaeb01af649d",
   "metadata": {},
   "outputs": [
    {
     "data": {
      "text/plain": [
       "10"
      ]
     },
     "execution_count": 691,
     "metadata": {},
     "output_type": "execute_result"
    }
   ],
   "source": [
    "total"
   ]
  },
  {
   "cell_type": "code",
   "execution_count": 692,
   "id": "957337da-1b83-4040-90d6-a2d16d35b1f7",
   "metadata": {},
   "outputs": [
    {
     "data": {
      "text/plain": [
       "9"
      ]
     },
     "execution_count": 692,
     "metadata": {},
     "output_type": "execute_result"
    }
   ],
   "source": [
    "correct"
   ]
  },
  {
   "cell_type": "code",
   "execution_count": 693,
   "id": "232a1bed-1cf1-4163-a7ea-000cb0645584",
   "metadata": {},
   "outputs": [],
   "source": [
    "# Calculate Precision, Recall, F1\n",
    "recall = round(len(tp_set)/len(golden),2)\n",
    "precision = round(correct/total,2)\n",
    "F1 = round(2*precision*recall/(precision+recall),2)"
   ]
  },
  {
   "cell_type": "code",
   "execution_count": 694,
   "id": "cbe104b2-bcb6-4428-9ebe-2d61147065d6",
   "metadata": {},
   "outputs": [
    {
     "name": "stdout",
     "output_type": "stream",
     "text": [
      "P: 0.9\n",
      "R: 0.87\n",
      "F1: 0.88\n"
     ]
    }
   ],
   "source": [
    "print('P: {}\\nR: {}\\nF1: {}'.format(precision,recall,F1))"
   ]
  },
  {
   "cell_type": "code",
   "execution_count": 695,
   "id": "53500ab3-4eee-405f-8d4b-0460b74f03d9",
   "metadata": {},
   "outputs": [],
   "source": [
    "### All evaluations from 1-50, output in sequence"
   ]
  },
  {
   "cell_type": "code",
   "execution_count": 696,
   "id": "64da5458-9332-45f7-8b3f-7ef4c91948c1",
   "metadata": {},
   "outputs": [],
   "source": [
    "import numpy as np\n",
    "\n",
    "metrics_arr = np.zeros((50,7))"
   ]
  },
  {
   "cell_type": "code",
   "execution_count": 699,
   "id": "8e5f4b25-33a3-47cc-b249-b16f5dc02de2",
   "metadata": {},
   "outputs": [
    {
     "name": "stdout",
     "output_type": "stream",
     "text": [
      "1 0.9 0.58 0.71\n",
      "2 0.92 0.82 0.87\n",
      "3 0.85 0.55 0.67\n",
      "4 0.81 0.78 0.79\n",
      "5 0.82 0.86 0.84\n",
      "6 0.9 0.87 0.88\n",
      "7 0.83 0.32 0.46\n",
      "8 0.92 0.65 0.76\n",
      "9 0.88 1.0 0.94\n",
      "10 0.89 0.75 0.81\n",
      "11 0.83 0.48 0.61\n",
      "12 0.74 0.45 0.56\n",
      "13 1.0 0.38 0.55\n",
      "14 0.91 0.73 0.81\n",
      "15 0.89 0.69 0.78\n",
      "16 0.92 0.75 0.83\n",
      "17 0.92 0.8 0.86\n",
      "18 0.94 0.43 0.59\n",
      "19 0.39 0.83 0.53\n",
      "20 0.83 0.88 0.85\n",
      "21 0.71 0.47 0.57\n",
      "22 0.92 0.83 0.87\n",
      "23 0.8 0.68 0.74\n",
      "24 0.88 0.5 0.64\n",
      "25 0.75 0.47 0.58\n",
      "26 0.38 0.7 0.49\n",
      "27 0.85 0.75 0.8\n",
      "28 0.81 0.48 0.6\n",
      "29 0.9 0.4 0.55\n",
      "30 1.0 0.93 0.96\n",
      "31 0.79 0.53 0.63\n",
      "32 1.0 0.56 0.72\n",
      "33 0.74 0.79 0.76\n",
      "34 0.63 0.92 0.75\n",
      "35 0.93 0.9 0.91\n",
      "36 0.93 0.64 0.76\n",
      "37 0.9 0.79 0.84\n",
      "38 1.0 1.0 1.0\n",
      "39 0.97 0.63 0.76\n",
      "40 0.96 0.61 0.75\n",
      "41 0.75 0.73 0.74\n",
      "42 0.91 0.93 0.92\n",
      "43 0.83 0.87 0.85\n",
      "44 0.79 0.6 0.68\n",
      "45 0.63 1.0 0.77\n",
      "46 0.82 0.9 0.86\n",
      "47 0.81 0.73 0.77\n",
      "48 0.85 0.93 0.89\n",
      "49 0.89 0.92 0.9\n",
      "50 0.8 0.93 0.86\n"
     ]
    }
   ],
   "source": [
    "data_list = loadJson('./data_list.json')\n",
    "for i in range(1,51):\n",
    "    lines = readCsvToList('./evaluate/{}.csv'.format(i))\n",
    "    golden = data_list[i-1]['Golden']\n",
    "    total,correct,tp_set = parse_prediction(lines,golden)\n",
    "    # Calculate Precision, Recall, F1\n",
    "    recall = round(len(tp_set)/len(golden),2)\n",
    "    precision = round(correct/total,2)\n",
    "    F1 = round(2*precision*recall/(precision+recall),2)\n",
    "    print(i,precision,recall,F1)\n",
    "    metrics_arr[i-1] = [precision,recall,F1,len(tp_set),correct,total,len(golden)]"
   ]
  },
  {
   "cell_type": "code",
   "execution_count": 700,
   "id": "bb472004-ce53-42cb-81e3-f95ccde882aa",
   "metadata": {},
   "outputs": [
    {
     "name": "stdout",
     "output_type": "stream",
     "text": [
      "1---5 tool\n",
      "P: 0.86, R: 0.718, F1: 0.776\n",
      "TP: 80.0, Corr: 95.0, Total: 110.0, Gold: 118.0\n",
      "6---10 travel\n",
      "P: 0.884, R: 0.718, F1: 0.77\n",
      "TP: 121.0, Corr: 185.0, Total: 205.0, Gold: 195.0\n",
      "11---15 business\n",
      "P: 0.874, R: 0.546, F1: 0.6620000000000001\n",
      "TP: 108.0, Corr: 95.0, Total: 111.0, Gold: 219.0\n",
      "16---20 entertainment\n",
      "P: 0.8, R: 0.738, F1: 0.732\n",
      "TP: 35.0, Corr: 65.0, Total: 82.0, Gold: 47.0\n",
      "21---25 life\n",
      "P: 0.8119999999999999, R: 0.5900000000000001, F1: 0.6799999999999999\n",
      "TP: 85.0, Corr: 86.0, Total: 105.0, Gold: 141.0\n",
      "26---30 news\n",
      "P: 0.788, R: 0.652, F1: 0.68\n",
      "TP: 58.0, Corr: 73.0, Total: 110.0, Gold: 94.0\n",
      "31---35 music\n",
      "P: 0.818, R: 0.74, F1: 0.7540000000000001\n",
      "TP: 73.0, Corr: 96.0, Total: 126.0, Gold: 98.0\n",
      "36---40 education\n",
      "P: 0.952, R: 0.734, F1: 0.8220000000000001\n",
      "TP: 92.0, Corr: 129.0, Total: 136.0, Gold: 143.0\n",
      "41---45 social\n",
      "P: 0.782, R: 0.8260000000000002, F1: 0.792\n",
      "TP: 60.0, Corr: 73.0, Total: 96.0, Gold: 75.0\n",
      "46---50 navigation\n",
      "P: 0.834, R: 0.882, F1: 0.8560000000000001\n",
      "TP: 91.0, Corr: 130.0, Total: 158.0, Gold: 104.0\n"
     ]
    }
   ],
   "source": [
    "for i in range(0,50,5):\n",
    "    sidx = i\n",
    "    eidx = i + 5\n",
    "    cate = data_list[sidx]['Category']\n",
    "    print(f\"{sidx+1}---{eidx}\",cate)\n",
    "    prf = np.average(metrics_arr[sidx:eidx,:3],axis=0)\n",
    "    count = np.sum(metrics_arr[sidx:eidx,3:],axis=0)\n",
    "    print(f\"P: {prf[0]}, R: {prf[1]}, F1: {prf[2]}\")\n",
    "    print(f\"TP: {count[0]}, Corr: {count[1]}, Total: {count[2]}, Gold: {count[3]}\")"
   ]
  },
  {
   "cell_type": "code",
   "execution_count": 665,
   "id": "07295fb5-5d9d-47c0-9cb1-882d2170ea6c",
   "metadata": {},
   "outputs": [
    {
     "data": {
      "text/plain": [
       "(81.0, 95.0, 110.0, 118.0)"
      ]
     },
     "execution_count": 665,
     "metadata": {},
     "output_type": "execute_result"
    }
   ],
   "source": [
    "tuple(np.sum(metrics_arr[sidx:eidx,3:],axis=0))"
   ]
  },
  {
   "cell_type": "code",
   "execution_count": 630,
   "id": "19352d7c-051d-4100-93fa-7b02872560d3",
   "metadata": {},
   "outputs": [
    {
     "ename": "AssertionError",
     "evalue": "",
     "output_type": "error",
     "traceback": [
      "\u001b[0;31m---------------------------------------------------------------------------\u001b[0m",
      "\u001b[0;31mAssertionError\u001b[0m                            Traceback (most recent call last)",
      "\u001b[0;32m/tmp/ipykernel_6864/4028575088.py\u001b[0m in \u001b[0;36m<module>\u001b[0;34m\u001b[0m\n\u001b[1;32m     11\u001b[0m     \u001b[0;32mfor\u001b[0m \u001b[0mjdx\u001b[0m \u001b[0;32min\u001b[0m \u001b[0mitem\u001b[0m\u001b[0;34m:\u001b[0m\u001b[0;34m\u001b[0m\u001b[0;34m\u001b[0m\u001b[0m\n\u001b[1;32m     12\u001b[0m         \u001b[0mgold_feature\u001b[0m \u001b[0;34m=\u001b[0m \u001b[0mline\u001b[0m\u001b[0;34m[\u001b[0m\u001b[0mint\u001b[0m\u001b[0;34m(\u001b[0m\u001b[0mjdx\u001b[0m\u001b[0;34m)\u001b[0m \u001b[0;34m+\u001b[0m \u001b[0;36m2\u001b[0m\u001b[0;34m]\u001b[0m\u001b[0;34m\u001b[0m\u001b[0;34m\u001b[0m\u001b[0m\n\u001b[0;32m---> 13\u001b[0;31m         \u001b[0;32massert\u001b[0m \u001b[0mgold_feature\u001b[0m \u001b[0;32min\u001b[0m \u001b[0mgolden\u001b[0m\u001b[0;34m\u001b[0m\u001b[0;34m\u001b[0m\u001b[0m\n\u001b[0m\u001b[1;32m     14\u001b[0m         \u001b[0mtp_set\u001b[0m\u001b[0;34m.\u001b[0m\u001b[0madd\u001b[0m\u001b[0;34m(\u001b[0m\u001b[0mgold_feature\u001b[0m\u001b[0;34m)\u001b[0m\u001b[0;34m\u001b[0m\u001b[0;34m\u001b[0m\u001b[0m\n",
      "\u001b[0;31mAssertionError\u001b[0m: "
     ]
    }
   ],
   "source": [
    "tp_set = set()\n",
    "correct = 0\n",
    "pre_list = [line[0].strip().lower() for line in lines]\n",
    "total = len(pre_list) - pre_list.count('n')\n",
    "for idx,item in enumerate(pre_list):\n",
    "    if item.strip() in ['n','0']:\n",
    "        continue\n",
    "    line = lines[idx]\n",
    "    correct += 1\n",
    "# The number 1 corresponds to the third item of each line\n",
    "    for jdx in item:\n",
    "        gold_feature = line[int(jdx) + 2]\n",
    "        assert gold_feature in golden\n",
    "        tp_set.add(gold_feature)"
   ]
  },
  {
   "cell_type": "code",
   "execution_count": 631,
   "id": "3d01f51a-9282-4eb7-9627-6ed7735f61b9",
   "metadata": {},
   "outputs": [
    {
     "data": {
      "text/plain": [
       "['4', '2', '能以任何语言显示路线', '获取路线', '自定义彩色图示', '智能分类', '终点定位器', '']"
      ]
     },
     "execution_count": 631,
     "metadata": {},
     "output_type": "execute_result"
    }
   ],
   "source": [
    "line"
   ]
  },
  {
   "cell_type": "code",
   "execution_count": 632,
   "id": "38a3c48a-164a-4159-9c15-1a99f4396df0",
   "metadata": {},
   "outputs": [
    {
     "data": {
      "text/plain": [
       "'终点定位器'"
      ]
     },
     "execution_count": 632,
     "metadata": {},
     "output_type": "execute_result"
    }
   ],
   "source": [
    "gold_feature"
   ]
  },
  {
   "cell_type": "code",
   "execution_count": 633,
   "id": "06e939a5-83e5-48b7-9220-b9934a521ac8",
   "metadata": {},
   "outputs": [
    {
     "data": {
      "text/plain": [
       "['导航',\n",
       " '优惠',\n",
       " '地图',\n",
       " '搜索书签',\n",
       " '添加照片',\n",
       " '添加标签',\n",
       " '添加评论',\n",
       " '添加电话号码',\n",
       " '翻译',\n",
       " '设置提醒',\n",
       " '到达场所附近通知',\n",
       " '获取路线',\n",
       " '看完整交通信息',\n",
       " '自定义彩色图示',\n",
       " '自定义箭头',\n",
       " '自定义贴纸',\n",
       " '笔记',\n",
       " '分享',\n",
       " '3D地图',\n",
       " '室内地图',\n",
       " '全屏街景',\n",
       " '智能分类',\n",
       " '发送地图副本给好友',\n",
       " '共享地图',\n",
       " '备注',\n",
       " '在地图上撰写消息',\n",
       " '查找场所',\n",
       " '场所信息',\n",
       " '周边场所',\n",
       " '输入终点']"
      ]
     },
     "execution_count": 633,
     "metadata": {},
     "output_type": "execute_result"
    }
   ],
   "source": [
    "golden"
   ]
  },
  {
   "cell_type": "code",
   "execution_count": null,
   "id": "abca74d2-c0af-4b4f-9c95-813db14a2be4",
   "metadata": {},
   "outputs": [],
   "source": [
    "lines = readCsvToList\n",
    "\n"
   ]
  }
 ],
 "metadata": {
  "kernelspec": {
   "display_name": "Python 3 (ipykernel)",
   "language": "python",
   "name": "python3"
  },
  "language_info": {
   "codemirror_mode": {
    "name": "ipython",
    "version": 3
   },
   "file_extension": ".py",
   "mimetype": "text/x-python",
   "name": "python",
   "nbconvert_exporter": "python",
   "pygments_lexer": "ipython3",
   "version": "3.9.7"
  }
 },
 "nbformat": 4,
 "nbformat_minor": 5
}
