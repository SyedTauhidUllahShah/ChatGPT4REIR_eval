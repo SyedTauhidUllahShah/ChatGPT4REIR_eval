{
 "cells": [
  {
   "cell_type": "markdown",
   "id": "81aad8de-553d-47f3-942c-0c4af47ae9b5",
   "metadata": {
    "tags": []
   },
   "source": [
    "## Terminology Extraction"
   ]
  },
  {
   "cell_type": "markdown",
   "id": "c297bee7-0723-4757-8af9-239e51015089",
   "metadata": {},
   "source": [
    "### 1. Data Preparation"
   ]
  },
  {
   "cell_type": "markdown",
   "id": "7f42ec03-cb07-4057-8bb6-47ae8e5f41b9",
   "metadata": {},
   "source": [
    "The term annotated dataset is from:\n",
    "\n",
    "**Data Repository**: https://github.com/tgem/crowdre-glossary\n",
    "\n",
    "**Paper**: Tim Gemkow, Miro Conzelmann, Kerstin Hartig, and Andreas Vogelsang. *Automatic glossary term extraction from large-scale requirements specifications*. In 2018 IEEE 26th International Requirements Engineering Conference (RE), pages 412–417. IEEE, 2018."
   ]
  },
  {
   "cell_type": "markdown",
   "id": "df9ab09c-de8a-4ce9-9b77-342096086e63",
   "metadata": {},
   "source": [
    "import jsonlines\n",
    "from utils.fileUtils import readCsvToList"
   ]
  },
  {
   "cell_type": "markdown",
   "id": "8769d761-3dc8-4943-964c-9ed5996102d1",
   "metadata": {},
   "source": [
    "lines = readCsvToList('./data/term_extraction.csv')"
   ]
  },
  {
   "cell_type": "markdown",
   "id": "75c590bd-7293-497a-acc5-2da59965f02a",
   "metadata": {},
   "source": [
    "lines[:2]"
   ]
  },
  {
   "cell_type": "markdown",
   "id": "9c434e0a-0821-44e8-a67a-3504913a7a93",
   "metadata": {},
   "source": [
    "lines[100:102]"
   ]
  },
  {
   "cell_type": "markdown",
   "id": "2a1fa3b6-3cb6-4daf-98b5-cdbc98f4777d",
   "metadata": {},
   "source": [
    "dict_list = []"
   ]
  },
  {
   "cell_type": "markdown",
   "id": "8c79ebfa-1694-4106-8fb4-fb10bacee64e",
   "metadata": {},
   "source": [
    "for line in lines[1:101]:\n",
    "    req_id = line[0]\n",
    "    terms = line[1].strip().split(', ')\n",
    "    role = line[2]\n",
    "    feature = line[3]\n",
    "    benefit = line[4]\n",
    "    req_sent = 'As a ' + role + ' I want ' + feature + ' so that ' + benefit + '.'\n",
    "    dict_line = {'id': req_id,\n",
    "                'Req': req_sent,\n",
    "                'Terms': terms}\n",
    "    dict_list.append(dict_line)"
   ]
  },
  {
   "cell_type": "markdown",
   "id": "417d47d7-57a4-49cf-98f1-562441214694",
   "metadata": {},
   "source": [
    "with jsonlines.open('./data/term_extraction.jsonl',mode='w') as writer:\n",
    "     writer.write_all(dict_list)"
   ]
  },
  {
   "cell_type": "markdown",
   "id": "18671f77-45c0-4112-9f1e-b5a5fed27598",
   "metadata": {},
   "source": [
    "### 2. ChatGPT for Terminology Extraction"
   ]
  },
  {
   "cell_type": "code",
   "execution_count": 8,
   "id": "2911e5d6-c180-479d-86f9-8bfb5fbdebf6",
   "metadata": {},
   "outputs": [],
   "source": [
    "# ! pip install openai"
   ]
  },
  {
   "cell_type": "code",
   "execution_count": 9,
   "id": "85c0c557-42be-48be-8d6d-73aed1518da7",
   "metadata": {},
   "outputs": [],
   "source": [
    "import openai"
   ]
  },
  {
   "cell_type": "code",
   "execution_count": 10,
   "id": "db378a13-e91e-4cd6-bb4e-45c73d3c36db",
   "metadata": {},
   "outputs": [],
   "source": [
    "openai.api_key = 'YOUR_OWN_API_KEY'"
   ]
  },
  {
   "cell_type": "code",
   "execution_count": 98,
   "id": "83db7c1a-211c-4519-848b-b3d028f81fd4",
   "metadata": {},
   "outputs": [
    {
     "name": "stdout",
     "output_type": "stream",
     "text": [
      "{'id': '12', 'Req': 'As a home occupant I want my smart home to turn on certain lights at dusk so that I can come home to a well-lit house.', 'Terms': ['home occupant', 'smart home', 'light', 'dusk', 'home', 'house']}\n"
     ]
    }
   ],
   "source": [
    "test_req = dict_list[1]\n",
    "print(test_req)"
   ]
  },
  {
   "cell_type": "code",
   "execution_count": 99,
   "id": "7b34d007-fa13-4c6f-88aa-76137155a4aa",
   "metadata": {},
   "outputs": [],
   "source": [
    "prompt = 'Extract all single-word and multi-words noun terms from the following software requirements statement:\\n\\n'"
   ]
  },
  {
   "cell_type": "code",
   "execution_count": 100,
   "id": "4538a877-003d-4ed7-a6e6-95ccdd50368c",
   "metadata": {},
   "outputs": [],
   "source": [
    "response = openai.ChatCompletion.create(\n",
    "        model=\"gpt-3.5-turbo\",\n",
    "        messages=[{\"role\": \"user\", \"content\": prompt + test_req['Req']}],\n",
    "        temperature = 0,\n",
    "        top_p = 1\n",
    "    )"
   ]
  },
  {
   "cell_type": "code",
   "execution_count": 101,
   "id": "9ecafe4d-96f3-41b0-ae36-c79fa60389f4",
   "metadata": {},
   "outputs": [],
   "source": [
    "content = response['choices'][0]['message']['content']"
   ]
  },
  {
   "cell_type": "code",
   "execution_count": 102,
   "id": "244638ec-c4e1-4087-b78e-557c967480a2",
   "metadata": {},
   "outputs": [
    {
     "name": "stdout",
     "output_type": "stream",
     "text": [
      "\n",
      "\n",
      "- Home occupant\n",
      "- Smart home\n",
      "- Certain lights\n",
      "- Dusk\n",
      "- House\n"
     ]
    }
   ],
   "source": [
    "print(content)"
   ]
  },
  {
   "cell_type": "code",
   "execution_count": 103,
   "id": "2bd1c0a9-e8dd-43cf-a06d-48f6cfcec231",
   "metadata": {},
   "outputs": [
    {
     "data": {
      "text/plain": [
       "['Home occupant', 'Smart home', 'Certain lights', 'Dusk', 'House']"
      ]
     },
     "execution_count": 103,
     "metadata": {},
     "output_type": "execute_result"
    }
   ],
   "source": [
    "content.strip().strip('- ').split('\\n- ')"
   ]
  },
  {
   "cell_type": "code",
   "execution_count": 104,
   "id": "94d2a30c-df2f-434f-b2f3-10e2f0c48c15",
   "metadata": {},
   "outputs": [],
   "source": [
    "p = content.strip().strip('- ').split('\\n- ')"
   ]
  },
  {
   "cell_type": "code",
   "execution_count": 105,
   "id": "81913bf5-a21b-4a57-ad83-c7c1185a5f59",
   "metadata": {},
   "outputs": [
    {
     "data": {
      "text/plain": [
       "set()"
      ]
     },
     "execution_count": 105,
     "metadata": {},
     "output_type": "execute_result"
    }
   ],
   "source": [
    "set(p) & set(test_req['Terms'])"
   ]
  },
  {
   "cell_type": "code",
   "execution_count": 122,
   "id": "1e36156e-9ed2-40a3-b3c0-01ed6cb6742c",
   "metadata": {},
   "outputs": [],
   "source": [
    "def query_ChatGPT(req_str):\n",
    "    prompt = 'Extract all single-word and multi-words noun terms from the following software requirements statement:\\n\\n'\n",
    "    response = openai.ChatCompletion.create(\n",
    "        model=\"gpt-3.5-turbo\",\n",
    "        messages=[{\"role\": \"user\", \"content\": prompt + req_str}],\n",
    "        temperature=0,  # default1\n",
    "        top_p=1\n",
    "    )\n",
    "    content = response['choices'][0]['message']['content']\n",
    "    result_list = content.strip().strip('- ').lower().split('\\n- ')\n",
    "    return result_list"
   ]
  },
  {
   "cell_type": "code",
   "execution_count": 123,
   "id": "c53e9225-db77-4b93-8261-30dfe4cff1f4",
   "metadata": {},
   "outputs": [],
   "source": [
    "import jsonlines\n",
    "\n",
    "reqs = []\n",
    "\n",
    "with open('./data/term_extraction.jsonl', 'r+', encoding=\"utf8\") as f:\n",
    "    for line in jsonlines.Reader(f):\n",
    "        reqs.append(line)"
   ]
  },
  {
   "cell_type": "code",
   "execution_count": 124,
   "id": "c7acb839-047e-498f-830a-9e872755600d",
   "metadata": {},
   "outputs": [
    {
     "name": "stdout",
     "output_type": "stream",
     "text": [
      "49.86 69.19999999999999\n"
     ]
    }
   ],
   "source": [
    "extract_all = set()\n",
    "answer_all = set()\n",
    "for req in reqs:\n",
    "    answer = req['Terms']\n",
    "    answer_total += len(answer)\n",
    "    extract = query_ChatGPT(req['Req'])\n",
    "    extract_all.update(extract)\n",
    "    answer_all.update(answer)"
   ]
  },
  {
   "cell_type": "code",
   "execution_count": 1,
   "id": "cfb7c722-a70c-48c2-984e-02ad43c45f7f",
   "metadata": {},
   "outputs": [],
   "source": [
    "from utils.fileUtils import *"
   ]
  },
  {
   "cell_type": "code",
   "execution_count": 134,
   "id": "2cea1b7d-7770-4cdc-b042-c814b82b0f67",
   "metadata": {},
   "outputs": [],
   "source": [
    "dumpJson('./extraction_result.json',sorted(list(extract_all)))"
   ]
  },
  {
   "cell_type": "code",
   "execution_count": 135,
   "id": "c0b9fd5a-d5fc-4f96-b63a-429804d0b411",
   "metadata": {},
   "outputs": [],
   "source": [
    "dumpJson('./ground_truth.json',sorted(list(answer_all)))"
   ]
  },
  {
   "cell_type": "code",
   "execution_count": 76,
   "id": "e25b4f4d-6a83-46c5-ab15-2b473774a645",
   "metadata": {},
   "outputs": [],
   "source": [
    "# import spacy\n",
    "# nlp = spacy.load('en_core_web_sm')\n",
    "\n",
    "# doc = nlp(\"team‘s goal home\")\n",
    "\n",
    "# word_list = []\n",
    "# for token in doc:\n",
    "#     word = token.lemma_\n",
    "#     word_list.append(word)\n",
    "# print(' '.join(word_list))"
   ]
  },
  {
   "cell_type": "code",
   "execution_count": 2,
   "id": "bab58405-b733-4f19-bcb4-e464017d7e53",
   "metadata": {},
   "outputs": [],
   "source": [
    "extract_all = loadJson('./extraction_result.json')"
   ]
  },
  {
   "cell_type": "code",
   "execution_count": 3,
   "id": "f29c4f26-ac34-4912-805b-16bbf7b120e0",
   "metadata": {},
   "outputs": [],
   "source": [
    "answer_all = loadJson('./ground_truth.json')"
   ]
  },
  {
   "cell_type": "code",
   "execution_count": 42,
   "id": "9777e304-6dbe-4ca1-acfe-66e2a0de9210",
   "metadata": {},
   "outputs": [
    {
     "name": "stdout",
     "output_type": "stream",
     "text": [
      "lighting light\n",
      "tv tv\n"
     ]
    }
   ],
   "source": [
    "import spacy\n",
    "nlp = spacy.load('en_core_web_sm')\n",
    "\n",
    "extract_all_lemma = set()\n",
    "answer_all_lemma = set()\n",
    "\n",
    "for item in extract_all:\n",
    "    doc = nlp(item)\n",
    "    word_list = []\n",
    "    for token in doc:\n",
    "        word = token.lemma_.lower()\n",
    "        word_list.append(word) \n",
    "    extract_all_lemma.add(' '.join(word_list))\n",
    "    \n",
    "for item in answer_all:\n",
    "    item = item.replace('‘',\"'\")\n",
    "    doc = nlp(item)\n",
    "    word_list = []\n",
    "    for token in doc:\n",
    "        word = token.lemma_.lower()\n",
    "        word_list.append(word)\n",
    "    if ' '.join(word_list) in answer_all_lemma:\n",
    "        print(item, ' '.join(word_list))\n",
    "    answer_all_lemma.add(' '.join(word_list))\n",
    "\n",
    "# doc = nlp(\"team‘s goal home\")\n",
    "\n",
    "# word_list = []\n",
    "# for token in doc:\n",
    "#     word = token.lemma_\n",
    "#     word_list.append(word)\n",
    "# print(' '.join(word_list))"
   ]
  },
  {
   "cell_type": "code",
   "execution_count": 56,
   "id": "a17fb0b8-335d-40f9-819c-14d893638502",
   "metadata": {},
   "outputs": [],
   "source": [
    "# As the two terms *lighting* and *TV* in the ground truth (before lemmatization) are extracted by the ChatGPT. See the extraction_result.json.\n",
    "# After lemmatization, these two terms and their other variants are normalized to the base forms, i.e. tv and light.\n",
    "# To compare with previous extraction results on this benchmark. Both the sizes of *answer_all_lemma* and *extract_all_lemma* addded by 2.\n",
    "# Thus answer_all_num = len(answer_all_lemma) + 2, extract_all_num = len(extract_all_lemma) + 2"
   ]
  },
  {
   "cell_type": "code",
   "execution_count": 57,
   "id": "80f2d2a7-766a-4c4e-b1ce-634de03fa28a",
   "metadata": {},
   "outputs": [
    {
     "data": {
      "text/plain": [
       "248"
      ]
     },
     "execution_count": 57,
     "metadata": {},
     "output_type": "execute_result"
    }
   ],
   "source": [
    "len(answer_all_lemma)"
   ]
  },
  {
   "cell_type": "code",
   "execution_count": 58,
   "id": "47cc618f-174e-4679-b383-6b9f280f1ffe",
   "metadata": {},
   "outputs": [
    {
     "data": {
      "text/plain": [
       "332"
      ]
     },
     "execution_count": 58,
     "metadata": {},
     "output_type": "execute_result"
    }
   ],
   "source": [
    "len(extract_all_lemma)"
   ]
  },
  {
   "cell_type": "code",
   "execution_count": 59,
   "id": "6de50873-6185-4027-a319-fa274d9c60f6",
   "metadata": {},
   "outputs": [],
   "source": [
    "answer_all_num = len(answer_all_lemma) + 2\n",
    "extract_all_num = len(extract_all_lemma) + 2"
   ]
  },
  {
   "cell_type": "code",
   "execution_count": 60,
   "id": "e28a9b6f-f5b0-43f5-8aee-1df2039b8bfd",
   "metadata": {},
   "outputs": [],
   "source": [
    "tp = len(answer_all_lemma & extract_all_lemma) + 2"
   ]
  },
  {
   "cell_type": "code",
   "execution_count": 61,
   "id": "e73fd989-fe01-47f0-89f1-f652fbef87e0",
   "metadata": {},
   "outputs": [],
   "source": [
    "r = round(tp/answer_all_num,4)*100"
   ]
  },
  {
   "cell_type": "code",
   "execution_count": 62,
   "id": "eb9fba2a-d242-4169-8c28-4998422e8251",
   "metadata": {},
   "outputs": [],
   "source": [
    "p = round(tp/(extract_all_num),4)*100"
   ]
  },
  {
   "cell_type": "code",
   "execution_count": 63,
   "id": "bb6933f2-0dde-4778-bdf7-28e5eb87de5a",
   "metadata": {},
   "outputs": [],
   "source": [
    "f1 = round((2*p*r)/(p+r),2)"
   ]
  },
  {
   "cell_type": "code",
   "execution_count": 64,
   "id": "847939fc-e183-4d9c-a609-690b52463127",
   "metadata": {},
   "outputs": [
    {
     "name": "stdout",
     "output_type": "stream",
     "text": [
      "67.07 89.60000000000001 76.72\n"
     ]
    }
   ],
   "source": [
    "print(p,r,f1)"
   ]
  },
  {
   "cell_type": "code",
   "execution_count": 22,
   "id": "17a3fc2e-7297-40ac-a331-cdd34fdda59b",
   "metadata": {},
   "outputs": [],
   "source": [
    "extract_len_l = [len(item.split()) for item in extract_all_lemma]"
   ]
  },
  {
   "cell_type": "code",
   "execution_count": 23,
   "id": "cdb7dad9-b3c0-4302-8db0-f76a47240479",
   "metadata": {},
   "outputs": [],
   "source": [
    "answer_len_l = [len(item.split()) for item in answer_all_lemma]"
   ]
  },
  {
   "cell_type": "code",
   "execution_count": 24,
   "id": "3474bc26-d5d8-4fe3-ac14-baba58604f4b",
   "metadata": {},
   "outputs": [
    {
     "data": {
      "text/plain": [
       "1.5993975903614457"
      ]
     },
     "execution_count": 24,
     "metadata": {},
     "output_type": "execute_result"
    }
   ],
   "source": [
    "sum(extract_len_l)/len(extract_len_l)"
   ]
  },
  {
   "cell_type": "code",
   "execution_count": 25,
   "id": "a71d27c0-271b-4d54-aa42-5e6b473926c0",
   "metadata": {},
   "outputs": [
    {
     "data": {
      "text/plain": [
       "1.6088709677419355"
      ]
     },
     "execution_count": 25,
     "metadata": {},
     "output_type": "execute_result"
    }
   ],
   "source": [
    "sum(answer_len_l)/len(answer_len_l)"
   ]
  }
 ],
 "metadata": {
  "kernelspec": {
   "display_name": "Python 3 (ipykernel)",
   "language": "python",
   "name": "python3"
  },
  "language_info": {
   "codemirror_mode": {
    "name": "ipython",
    "version": 3
   },
   "file_extension": ".py",
   "mimetype": "text/x-python",
   "name": "python",
   "nbconvert_exporter": "python",
   "pygments_lexer": "ipython3",
   "version": "3.9.7"
  }
 },
 "nbformat": 4,
 "nbformat_minor": 5
}
