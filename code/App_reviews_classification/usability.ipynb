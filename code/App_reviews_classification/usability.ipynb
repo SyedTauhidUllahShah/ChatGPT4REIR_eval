{
 "cells": [
  {
   "cell_type": "markdown",
   "id": "ac12a624-796c-435f-a0fa-2af9f557dfa1",
   "metadata": {
    "tags": []
   },
   "source": [
    "## <center>**App Reviews Multi-labels Classification**</center>"
   ]
  },
  {
   "cell_type": "markdown",
   "id": "90128aea-3062-4275-8eba-471d44d6a5e5",
   "metadata": {},
   "source": [
    "### **1. Construct the Task Prompt**"
   ]
  },
  {
   "cell_type": "code",
   "execution_count": 1,
   "id": "2f4e91b9-88c5-462b-97a8-96a53b44662b",
   "metadata": {},
   "outputs": [],
   "source": [
    "from utils.fileUtils import *"
   ]
  },
  {
   "cell_type": "code",
   "execution_count": 2,
   "id": "53f5347f-4926-4474-844b-cb6274da31d4",
   "metadata": {},
   "outputs": [],
   "source": [
    "data_lines = readCsvToList('./test_data_android.csv')"
   ]
  },
  {
   "cell_type": "code",
   "execution_count": 3,
   "id": "20ffeaa8-ec2d-4b96-9d9f-32026c29e399",
   "metadata": {},
   "outputs": [],
   "source": [
    "assert len(data_lines) == 500"
   ]
  },
  {
   "cell_type": "code",
   "execution_count": 4,
   "id": "a5efc4fc-af6c-4a16-b440-90ea6c08d515",
   "metadata": {},
   "outputs": [],
   "source": [
    "nfr_labels = ['Per','Usa','Sup','Dep','Mis']"
   ]
  },
  {
   "cell_type": "code",
   "execution_count": 5,
   "id": "008705b5-f564-438e-927b-6aca6fda86d2",
   "metadata": {},
   "outputs": [
    {
     "data": {
      "text/plain": [
       "[\"I had songs on my sd card that are still listed but won't play because for some reason all of a sudden those songs don't register as being on my sd card. If it happens again I will uninstall it\",\n",
       " '0',\n",
       " '1',\n",
       " '0',\n",
       " '0',\n",
       " '0']"
      ]
     },
     "execution_count": 5,
     "metadata": {},
     "output_type": "execute_result"
    }
   ],
   "source": [
    "data_lines[0]"
   ]
  },
  {
   "cell_type": "code",
   "execution_count": 6,
   "id": "f0ce15eb-8f00-41e5-b3be-dd326fbb084c",
   "metadata": {},
   "outputs": [
    {
     "data": {
      "text/plain": [
       "['App spontaneously moves to advertising not selected by users. Even if we must see advertising on app pages, we should NEVER be transferred to ad sites without intentional selection. Further, when multiple watches are in place, why does wundermap only show pop-up least severe?',\n",
       " '0',\n",
       " '1',\n",
       " '0',\n",
       " '0',\n",
       " '0']"
      ]
     },
     "execution_count": 6,
     "metadata": {},
     "output_type": "execute_result"
    }
   ],
   "source": [
    "data_lines[-1]"
   ]
  },
  {
   "cell_type": "code",
   "execution_count": 7,
   "id": "1f1b82a7-8c62-4d42-be0e-3f5ea05d993a",
   "metadata": {},
   "outputs": [],
   "source": [
    "import openai"
   ]
  },
  {
   "cell_type": "code",
   "execution_count": 8,
   "id": "1d59dc1b-6044-42bf-908b-f297a253a08f",
   "metadata": {},
   "outputs": [],
   "source": [
    "openai.api_key = 'YOUR_OWN_API_KEY'"
   ]
  },
  {
   "cell_type": "code",
   "execution_count": 9,
   "id": "93c6fb53-8aba-4636-95d2-257f524ec8a1",
   "metadata": {},
   "outputs": [
    {
     "name": "stdout",
     "output_type": "stream",
     "text": [
      "This used to be a great app, designed for one purpose, music. Now woth all of the additional add ons even songs that I have downloaded need to buffer and the musoc keeps on skipping. Amazon, change this app back to its original purpose and stopp adding stupid gimmicks. ['1', '1', '0', '0', '0']\n"
     ]
    }
   ],
   "source": [
    "# ['Per','Usa','Sup','Dep','Mis']\n",
    "test_req = data_lines[15]\n",
    "print(test_req[0],test_req[1:])"
   ]
  },
  {
   "cell_type": "code",
   "execution_count": 10,
   "id": "38c95007-1f8f-43cd-87eb-fd248df1aefe",
   "metadata": {},
   "outputs": [],
   "source": [
    "prompt = '''Does the following App review involve non-functional requirements about usability:\\n\\n'''"
   ]
  },
  {
   "cell_type": "code",
   "execution_count": 11,
   "id": "d8a115e6-d78e-4475-9b31-3107119893a4",
   "metadata": {},
   "outputs": [],
   "source": [
    "response = openai.ChatCompletion.create(\n",
    "        model=\"gpt-3.5-turbo\",\n",
    "        messages=[{\"role\": \"user\", \"content\": prompt + test_req[0]}],\n",
    "        temperature = 0,\n",
    "        top_p = 1\n",
    "    )"
   ]
  },
  {
   "cell_type": "code",
   "execution_count": 12,
   "id": "1f60473e-87db-4626-9e9c-356c6e1e6dee",
   "metadata": {},
   "outputs": [],
   "source": [
    "content = response['choices'][0]['message']['content']"
   ]
  },
  {
   "cell_type": "code",
   "execution_count": 13,
   "id": "07639038-9fa0-45ec-8ee5-99d54a2de927",
   "metadata": {},
   "outputs": [
    {
     "data": {
      "text/plain": [
       "\"Yes, the review involves non-functional requirements about usability, specifically about the app's performance and ease of use. The user is complaining about the app's ability to play music smoothly and without interruption, which is a usability issue.\""
      ]
     },
     "execution_count": 13,
     "metadata": {},
     "output_type": "execute_result"
    }
   ],
   "source": [
    "content.strip()"
   ]
  },
  {
   "cell_type": "code",
   "execution_count": 14,
   "id": "78358aed-4d40-4b08-8d3b-35764e9ee1be",
   "metadata": {},
   "outputs": [
    {
     "name": "stdout",
     "output_type": "stream",
     "text": [
      "Does the following App review involve non-functional requirements about usability:\n",
      "\n",
      "This used to be a great app, designed for one purpose, music. Now woth all of the additional add ons even songs that I have downloaded need to buffer and the musoc keeps on skipping. Amazon, change this app back to its original purpose and stopp adding stupid gimmicks.\n"
     ]
    }
   ],
   "source": [
    "print(prompt + test_req[0])"
   ]
  },
  {
   "cell_type": "markdown",
   "id": "9d0f790e-7bf6-43e5-8e6c-5ddbf6b650cc",
   "metadata": {},
   "source": [
    "### **2. Multi-labels Classification on App Reviews with ChatGPT**"
   ]
  },
  {
   "cell_type": "code",
   "execution_count": 15,
   "id": "fe4c2fdc-83e3-4bab-8c1c-4738e79a2afc",
   "metadata": {},
   "outputs": [],
   "source": [
    "def query_ChatGPT(req_str):\n",
    "    prompt = '''Does the following App review involve non-functional requirements about usability:\\n\\n'''\n",
    "    response = openai.ChatCompletion.create(\n",
    "        model = \"gpt-3.5-turbo\",\n",
    "        messages = [{\"role\": \"user\", \"content\": prompt + req_str}],\n",
    "        temperature = 0,\n",
    "        top_p = 1\n",
    "    )\n",
    "    content = response['choices'][0]['message']['content']\n",
    "    label = content.strip()\n",
    "    return label"
   ]
  },
  {
   "cell_type": "code",
   "execution_count": 16,
   "id": "bbd41e2e-58b3-4e56-b022-4012569dc592",
   "metadata": {},
   "outputs": [],
   "source": [
    "import time\n",
    "import logging\n",
    "from datetime import datetime\n",
    "\n",
    "# current time\n",
    "now = datetime.now()\n",
    "# current time string\n",
    "time_str = now.strftime(\"%Y-%m-%d %H:%M:%S\")\n",
    "\n",
    "logging.basicConfig(level=logging.INFO,\n",
    "                    filename='./logs_android/{}-{}.log'.format('usability',time_str),\n",
    "                    format='%(asctime)s - %(levelname)s - %(message)s',\n",
    "                    datefmt='%Y-%m-%d %H:%M:%S')"
   ]
  },
  {
   "cell_type": "code",
   "execution_count": 17,
   "id": "df05bedb-23f6-49d8-8e68-ee631ef23d51",
   "metadata": {},
   "outputs": [],
   "source": [
    "data_lines = readCsvToList('./test_data_android.csv')"
   ]
  },
  {
   "cell_type": "code",
   "execution_count": 18,
   "id": "ec6a65e7-4591-40b9-9e56-0ee2cdf0bb58",
   "metadata": {},
   "outputs": [],
   "source": [
    "# save logging information and results to local files (writing file with `append` mode)\n",
    "for idx,line in enumerate(data_lines):\n",
    "    req = line[0].strip()\n",
    "    \n",
    "    while True:\n",
    "        try:\n",
    "            pre = query_ChatGPT(req)\n",
    "            logging.info(idx+1)\n",
    "            with open('./results_android/{}-{}.txt'.format('usability',time_str),'a+') as f:\n",
    "                f.write(str(idx+1)+' -*- '+pre.strip().replace('\\n',' ')+'\\n')\n",
    "            break\n",
    "        except:\n",
    "            time.sleep(3)\n",
    "            continue"
   ]
  }
 ],
 "metadata": {
  "kernelspec": {
   "display_name": "Python 3 (ipykernel)",
   "language": "python",
   "name": "python3"
  },
  "language_info": {
   "codemirror_mode": {
    "name": "ipython",
    "version": 3
   },
   "file_extension": ".py",
   "mimetype": "text/x-python",
   "name": "python",
   "nbconvert_exporter": "python",
   "pygments_lexer": "ipython3",
   "version": "3.9.7"
  }
 },
 "nbformat": 4,
 "nbformat_minor": 5
}
