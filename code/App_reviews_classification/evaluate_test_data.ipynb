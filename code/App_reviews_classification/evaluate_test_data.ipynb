{
 "cells": [
  {
   "cell_type": "markdown",
   "id": "d06f0ffd-254a-4c39-9a5c-690170920280",
   "metadata": {},
   "source": [
    "### ML test data"
   ]
  },
  {
   "cell_type": "markdown",
   "id": "e5affb77-19f9-44b7-a7c6-5558bf6fc1c1",
   "metadata": {
    "tags": []
   },
   "source": [
    "#### **Dependability**"
   ]
  },
  {
   "cell_type": "code",
   "execution_count": 10,
   "id": "0e007f8a-ab0c-404a-a2bc-29ef888a19aa",
   "metadata": {},
   "outputs": [],
   "source": [
    "from utils.fileUtils import *"
   ]
  },
  {
   "cell_type": "code",
   "execution_count": 11,
   "id": "8d44781a-d9ca-4380-ac8b-3aceb825a3b2",
   "metadata": {},
   "outputs": [],
   "source": [
    "lines = readLinesFromFile('./results/dependability-2023-03-24 19:08:05.txt')"
   ]
  },
  {
   "cell_type": "code",
   "execution_count": 12,
   "id": "e5f0088b-0dbd-45b6-900b-83ac836218c6",
   "metadata": {},
   "outputs": [],
   "source": [
    "assert len(lines) == 1800"
   ]
  },
  {
   "cell_type": "code",
   "execution_count": 13,
   "id": "925deafa-f3de-44f3-8b88-0bbe892a58b4",
   "metadata": {},
   "outputs": [],
   "source": [
    "data_lines = readCsvToList('./test_data.csv')"
   ]
  },
  {
   "cell_type": "code",
   "execution_count": 14,
   "id": "8a639d03-ad0c-44b6-8ee6-bb91d3464b30",
   "metadata": {},
   "outputs": [],
   "source": [
    "assert len(data_lines) == 1800"
   ]
  },
  {
   "cell_type": "code",
   "execution_count": 15,
   "id": "c54e803a-66bd-405f-b819-0013ad809e36",
   "metadata": {},
   "outputs": [],
   "source": [
    "import re"
   ]
  },
  {
   "cell_type": "code",
   "execution_count": 16,
   "id": "009e87b2-d915-4445-b535-1303f61de609",
   "metadata": {},
   "outputs": [],
   "source": [
    "y_patten = re.compile('^\\d+ -\\*- Yes')"
   ]
  },
  {
   "cell_type": "code",
   "execution_count": 17,
   "id": "2384fde7-447c-4158-8e6c-641e977bed8e",
   "metadata": {},
   "outputs": [],
   "source": [
    "ans_list = []\n",
    "pre_list = []\n",
    "# [Per, Usa, Sup, Dep, Mis]\n",
    "for line_a,line_p in zip(data_lines, lines):\n",
    "    ans_list.append(line_a[-2])\n",
    "    if y_patten.match(line_p):\n",
    "        pre_list.append('1')\n",
    "    else:\n",
    "        pre_list.append('0')"
   ]
  },
  {
   "cell_type": "code",
   "execution_count": 18,
   "id": "edf9c6ae-ea94-4f85-965c-d58a77ad2317",
   "metadata": {},
   "outputs": [],
   "source": [
    "from sklearn.metrics import classification_report,confusion_matrix"
   ]
  },
  {
   "cell_type": "code",
   "execution_count": 19,
   "id": "efcf49c9-711c-40b0-b775-cc272c0e3f5e",
   "metadata": {},
   "outputs": [
    {
     "name": "stdout",
     "output_type": "stream",
     "text": [
      "              precision    recall  f1-score   support\n",
      "\n",
      "           0       0.95      0.82      0.88      1489\n",
      "           1       0.48      0.78      0.60       311\n",
      "\n",
      "    accuracy                           0.82      1800\n",
      "   macro avg       0.71      0.80      0.74      1800\n",
      "weighted avg       0.87      0.82      0.83      1800\n",
      "\n"
     ]
    }
   ],
   "source": [
    "r = classification_report(ans_list,pre_list)\n",
    "\n",
    "print(r)"
   ]
  },
  {
   "cell_type": "code",
   "execution_count": 20,
   "id": "4085aa91-9dd4-43fe-afd1-b7686c166e3b",
   "metadata": {},
   "outputs": [
    {
     "name": "stdout",
     "output_type": "stream",
     "text": [
      "[[1224  265]\n",
      " [  67  244]]\n"
     ]
    }
   ],
   "source": [
    "print(confusion_matrix(ans_list,pre_list))"
   ]
  },
  {
   "cell_type": "code",
   "execution_count": null,
   "id": "d299c114-8c53-499f-b31b-5ae2c4dededc",
   "metadata": {},
   "outputs": [],
   "source": []
  },
  {
   "cell_type": "markdown",
   "id": "e90b228c-da27-42c1-8a66-f9f8160d3b19",
   "metadata": {},
   "source": [
    "#### **Usability**"
   ]
  },
  {
   "cell_type": "code",
   "execution_count": 26,
   "id": "bbc37960-73c5-4731-8384-63c67b269cf1",
   "metadata": {},
   "outputs": [],
   "source": [
    "from utils.fileUtils import *"
   ]
  },
  {
   "cell_type": "code",
   "execution_count": 27,
   "id": "404a1e72-f1c7-4b1e-90c4-635c556cea03",
   "metadata": {},
   "outputs": [],
   "source": [
    "lines = readLinesFromFile('./results/usability-2023-03-24 19:08:04.txt')"
   ]
  },
  {
   "cell_type": "code",
   "execution_count": 28,
   "id": "02f10f21-b42d-4557-b81c-79c38d7445de",
   "metadata": {},
   "outputs": [],
   "source": [
    "assert len(lines) == 1800"
   ]
  },
  {
   "cell_type": "code",
   "execution_count": 29,
   "id": "13fca692-fef9-4940-be22-336bd174eb90",
   "metadata": {},
   "outputs": [],
   "source": [
    "data_lines = readCsvToList('./test_data.csv')"
   ]
  },
  {
   "cell_type": "code",
   "execution_count": 30,
   "id": "8e539434-324f-419f-9e05-c189f8255d0f",
   "metadata": {},
   "outputs": [],
   "source": [
    "assert len(data_lines) == 1800"
   ]
  },
  {
   "cell_type": "code",
   "execution_count": 31,
   "id": "3804b71a-064f-45e4-83d3-01297bdecfe6",
   "metadata": {},
   "outputs": [],
   "source": [
    "import re"
   ]
  },
  {
   "cell_type": "code",
   "execution_count": 32,
   "id": "d7b9b129-5eaf-4c20-8148-51b8278de75f",
   "metadata": {},
   "outputs": [],
   "source": [
    "y_patten = re.compile('^\\d+ -\\*- Yes')"
   ]
  },
  {
   "cell_type": "code",
   "execution_count": 33,
   "id": "74c1d115-7b02-4278-a08d-f6c8a8a69dea",
   "metadata": {},
   "outputs": [],
   "source": [
    "ans_list = []\n",
    "pre_list = []\n",
    "# [Per, Usa, Sup, Dep, Mis]\n",
    "for line_a,line_p in zip(data_lines, lines):\n",
    "    ans_list.append(line_a[-4])\n",
    "    if y_patten.match(line_p):\n",
    "        pre_list.append('1')\n",
    "    else:\n",
    "        pre_list.append('0')"
   ]
  },
  {
   "cell_type": "code",
   "execution_count": 34,
   "id": "b937a5b8-a965-4b4e-b698-40916384929b",
   "metadata": {},
   "outputs": [],
   "source": [
    "from sklearn.metrics import classification_report,confusion_matrix"
   ]
  },
  {
   "cell_type": "code",
   "execution_count": 35,
   "id": "a4eb83c4-bca5-40bf-9f67-73103bc4d9ef",
   "metadata": {},
   "outputs": [
    {
     "name": "stdout",
     "output_type": "stream",
     "text": [
      "              precision    recall  f1-score   support\n",
      "\n",
      "           0       0.95      0.50      0.66      1443\n",
      "           1       0.31      0.89      0.46       357\n",
      "\n",
      "    accuracy                           0.58      1800\n",
      "   macro avg       0.63      0.70      0.56      1800\n",
      "weighted avg       0.82      0.58      0.62      1800\n",
      "\n"
     ]
    }
   ],
   "source": [
    "r = classification_report(ans_list,pre_list)\n",
    "\n",
    "print(r)"
   ]
  },
  {
   "cell_type": "code",
   "execution_count": 36,
   "id": "2abfa3c1-7f14-4470-8713-c9d30b47703f",
   "metadata": {},
   "outputs": [
    {
     "name": "stdout",
     "output_type": "stream",
     "text": [
      "[[727 716]\n",
      " [ 38 319]]\n"
     ]
    }
   ],
   "source": [
    "print(confusion_matrix(ans_list,pre_list))"
   ]
  },
  {
   "cell_type": "code",
   "execution_count": null,
   "id": "2d8fce17-bef3-4563-9067-1e3bd150d30a",
   "metadata": {},
   "outputs": [],
   "source": []
  },
  {
   "cell_type": "markdown",
   "id": "d3ded266-b910-423f-9f35-946b08e7b96d",
   "metadata": {},
   "source": [
    "#### **Supportability**"
   ]
  },
  {
   "cell_type": "code",
   "execution_count": 37,
   "id": "a9db641d-d42b-4070-b81d-d961cca13846",
   "metadata": {},
   "outputs": [],
   "source": [
    "from utils.fileUtils import *"
   ]
  },
  {
   "cell_type": "code",
   "execution_count": 38,
   "id": "6dc8f344-e972-457b-8498-15a5a91adb5f",
   "metadata": {},
   "outputs": [],
   "source": [
    "lines = readLinesFromFile('./results/supportability-2023-03-24 19:08:08.txt')"
   ]
  },
  {
   "cell_type": "code",
   "execution_count": 39,
   "id": "32cac82b-7e04-4a37-996c-90a28ce50773",
   "metadata": {},
   "outputs": [],
   "source": [
    "assert len(lines) == 1800"
   ]
  },
  {
   "cell_type": "code",
   "execution_count": 40,
   "id": "8b738652-ec30-4668-948d-be641772b559",
   "metadata": {},
   "outputs": [],
   "source": [
    "data_lines = readCsvToList('./test_data.csv')"
   ]
  },
  {
   "cell_type": "code",
   "execution_count": 41,
   "id": "c82b21e0-58d6-405d-9aaa-15744aa91186",
   "metadata": {},
   "outputs": [],
   "source": [
    "assert len(data_lines) == 1800"
   ]
  },
  {
   "cell_type": "code",
   "execution_count": 42,
   "id": "3c0c8a26-c31f-456b-b051-e76848f82c4e",
   "metadata": {},
   "outputs": [],
   "source": [
    "import re"
   ]
  },
  {
   "cell_type": "code",
   "execution_count": 43,
   "id": "d5cbf9ab-0669-49ad-91cf-1a2eedf95510",
   "metadata": {},
   "outputs": [],
   "source": [
    "y_patten = re.compile('^\\d+ -\\*- Yes')"
   ]
  },
  {
   "cell_type": "code",
   "execution_count": 44,
   "id": "61a7899e-c09f-4c44-a4e3-1e4bf5a58ed7",
   "metadata": {},
   "outputs": [],
   "source": [
    "ans_list = []\n",
    "pre_list = []\n",
    "# [Per, Usa, Sup, Dep, Mis]\n",
    "for line_a,line_p in zip(data_lines, lines):\n",
    "    ans_list.append(line_a[-3])\n",
    "    if y_patten.match(line_p):\n",
    "        pre_list.append('1')\n",
    "    else:\n",
    "        pre_list.append('0')"
   ]
  },
  {
   "cell_type": "code",
   "execution_count": 45,
   "id": "7da2d20d-77e2-461f-af41-e86f6879d5b8",
   "metadata": {},
   "outputs": [],
   "source": [
    "from sklearn.metrics import classification_report,confusion_matrix"
   ]
  },
  {
   "cell_type": "code",
   "execution_count": 46,
   "id": "59bccbc5-4ef2-4769-9c6f-3cd9004b232f",
   "metadata": {},
   "outputs": [
    {
     "name": "stdout",
     "output_type": "stream",
     "text": [
      "              precision    recall  f1-score   support\n",
      "\n",
      "           0       0.97      0.81      0.88      1634\n",
      "           1       0.29      0.77      0.42       166\n",
      "\n",
      "    accuracy                           0.80      1800\n",
      "   macro avg       0.63      0.79      0.65      1800\n",
      "weighted avg       0.91      0.80      0.84      1800\n",
      "\n"
     ]
    }
   ],
   "source": [
    "r = classification_report(ans_list,pre_list)\n",
    "\n",
    "print(r)"
   ]
  },
  {
   "cell_type": "code",
   "execution_count": 47,
   "id": "e2aab777-2ac0-4d17-bc23-369c125356af",
   "metadata": {},
   "outputs": [
    {
     "name": "stdout",
     "output_type": "stream",
     "text": [
      "[[1321  313]\n",
      " [  39  127]]\n"
     ]
    }
   ],
   "source": [
    "print(confusion_matrix(ans_list,pre_list))"
   ]
  },
  {
   "cell_type": "code",
   "execution_count": null,
   "id": "1b1a0c67-0c0a-40a0-8fc6-9b90eb586469",
   "metadata": {},
   "outputs": [],
   "source": []
  },
  {
   "cell_type": "markdown",
   "id": "1773577f-2cfa-4f28-861c-63993e19128f",
   "metadata": {},
   "source": [
    "#### **Performance**"
   ]
  },
  {
   "cell_type": "code",
   "execution_count": 53,
   "id": "b1770116-271b-4730-8511-b701c79ed136",
   "metadata": {},
   "outputs": [],
   "source": [
    "from utils.fileUtils import *"
   ]
  },
  {
   "cell_type": "code",
   "execution_count": 54,
   "id": "67f4d1b3-4e66-4320-bd17-6c7da5b16abb",
   "metadata": {},
   "outputs": [],
   "source": [
    "lines = readLinesFromFile('./results/performance-2023-03-24 19:08:11.txt')"
   ]
  },
  {
   "cell_type": "code",
   "execution_count": 55,
   "id": "05cfcf65-e2b7-4226-bdb0-719f6f4c6d2f",
   "metadata": {},
   "outputs": [],
   "source": [
    "assert len(lines) == 1800"
   ]
  },
  {
   "cell_type": "code",
   "execution_count": 56,
   "id": "1ba3d06d-f6b1-4f9b-90d4-35e8c2474ef3",
   "metadata": {},
   "outputs": [],
   "source": [
    "data_lines = readCsvToList('./test_data.csv')"
   ]
  },
  {
   "cell_type": "code",
   "execution_count": 57,
   "id": "0c5df43c-46be-47d7-a601-c27d0fa8537c",
   "metadata": {},
   "outputs": [],
   "source": [
    "assert len(data_lines) == 1800"
   ]
  },
  {
   "cell_type": "code",
   "execution_count": 58,
   "id": "08033f80-161b-43a2-b214-0088034a3f50",
   "metadata": {},
   "outputs": [],
   "source": [
    "import re"
   ]
  },
  {
   "cell_type": "code",
   "execution_count": 59,
   "id": "3679fc05-2cc6-451e-b09c-6a2f67273e93",
   "metadata": {},
   "outputs": [],
   "source": [
    "y_patten = re.compile('^\\d+ -\\*- Yes')"
   ]
  },
  {
   "cell_type": "code",
   "execution_count": 60,
   "id": "4cf061ed-b7ef-471b-b738-08bafb9be2b4",
   "metadata": {},
   "outputs": [],
   "source": [
    "ans_list = []\n",
    "pre_list = []\n",
    "# [Per, Usa, Sup, Dep, Mis]\n",
    "for line_a,line_p in zip(data_lines, lines):\n",
    "    ans_list.append(line_a[-5])\n",
    "    if y_patten.match(line_p):\n",
    "        pre_list.append('1')\n",
    "    else:\n",
    "        pre_list.append('0')"
   ]
  },
  {
   "cell_type": "code",
   "execution_count": 61,
   "id": "970e6e87-d8a1-4f50-b48d-b9cf2e0fc987",
   "metadata": {},
   "outputs": [],
   "source": [
    "from sklearn.metrics import classification_report,confusion_matrix"
   ]
  },
  {
   "cell_type": "code",
   "execution_count": 62,
   "id": "95f16487-2c0f-432b-b139-c459101b49e8",
   "metadata": {},
   "outputs": [
    {
     "name": "stdout",
     "output_type": "stream",
     "text": [
      "              precision    recall  f1-score   support\n",
      "\n",
      "           0       1.00      0.74      0.85      1768\n",
      "           1       0.06      0.94      0.11        32\n",
      "\n",
      "    accuracy                           0.74      1800\n",
      "   macro avg       0.53      0.84      0.48      1800\n",
      "weighted avg       0.98      0.74      0.83      1800\n",
      "\n"
     ]
    }
   ],
   "source": [
    "r = classification_report(ans_list,pre_list)\n",
    "\n",
    "print(r)"
   ]
  },
  {
   "cell_type": "code",
   "execution_count": 63,
   "id": "51a54a24-080a-4103-9a8c-2dcf2d0271b5",
   "metadata": {},
   "outputs": [
    {
     "name": "stdout",
     "output_type": "stream",
     "text": [
      "[[1300  468]\n",
      " [   2   30]]\n"
     ]
    }
   ],
   "source": [
    "print(confusion_matrix(ans_list,pre_list))"
   ]
  },
  {
   "cell_type": "code",
   "execution_count": null,
   "id": "d20b37db-089d-41ca-91b0-b2b30a294517",
   "metadata": {},
   "outputs": [],
   "source": []
  }
 ],
 "metadata": {
  "kernelspec": {
   "display_name": "Python 3 (ipykernel)",
   "language": "python",
   "name": "python3"
  },
  "language_info": {
   "codemirror_mode": {
    "name": "ipython",
    "version": 3
   },
   "file_extension": ".py",
   "mimetype": "text/x-python",
   "name": "python",
   "nbconvert_exporter": "python",
   "pygments_lexer": "ipython3",
   "version": "3.9.7"
  }
 },
 "nbformat": 4,
 "nbformat_minor": 5
}
